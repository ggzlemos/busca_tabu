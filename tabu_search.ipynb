{
  "nbformat": 4,
  "nbformat_minor": 0,
  "metadata": {
    "colab": {
      "name": "tabu_search.ipynb",
      "provenance": [],
      "authorship_tag": "ABX9TyObhfjwJjyxYjzucWtVC0k3",
      "include_colab_link": true
    },
    "kernelspec": {
      "name": "python3",
      "display_name": "Python 3"
    },
    "language_info": {
      "name": "python"
    }
  },
  "cells": [
    {
      "cell_type": "markdown",
      "metadata": {
        "id": "view-in-github",
        "colab_type": "text"
      },
      "source": [
        "<a href=\"https://colab.research.google.com/github/ggzlemos/busca_tabu/blob/main/tabu_search.ipynb\" target=\"_parent\"><img src=\"https://colab.research.google.com/assets/colab-badge.svg\" alt=\"Open In Colab\"/></a>"
      ]
    },
    {
      "cell_type": "markdown",
      "metadata": {
        "id": "PrhNpdeEcbjQ"
      },
      "source": [
        "#Esta atividade faz parte do treinamento do Hub de Inovação em Inteligência Artificial da UFPel (H2IA)\n",
        "\n",
        "###Neste notebook é implementado o algoritmo de busca Tabu para resolver o problema da mochila."
      ]
    },
    {
      "cell_type": "code",
      "metadata": {
        "id": "IKNyQpDskVw9"
      },
      "source": [
        "import numpy as np"
      ],
      "execution_count": null,
      "outputs": []
    },
    {
      "cell_type": "code",
      "metadata": {
        "id": "HCrfFylLkYpb"
      },
      "source": [
        "#configuração da mochila\n",
        "pesos = np.array([63,21,2,32,13,80,19,37,56,41,14,8,32,42,7])\n",
        "valores = np.array([13,2,20,10,7,14,7,2,2,4,16,17,17,3,21])"
      ],
      "execution_count": null,
      "outputs": []
    },
    {
      "cell_type": "code",
      "metadata": {
        "id": "wBtMquuDkdC1"
      },
      "source": [
        "def solucao_aleatoria(capacidade, pesos, valores):\n",
        "  while True:\n",
        "    solucao = np.random.randint(2, size=len(pesos))\n",
        "    peso = eval(solucao, pesos, valores)\n",
        "    if peso[0] <= capacidade:\n",
        "      return solucao"
      ],
      "execution_count": null,
      "outputs": []
    },
    {
      "cell_type": "code",
      "metadata": {
        "id": "-IjH0FTukfZF"
      },
      "source": [
        "#função objetivo\n",
        "def eval(solucao, pesos, valores):\n",
        "  peso = 0\n",
        "  f = 0\n",
        "  for i in range(len(solucao)):\n",
        "    if solucao[i] == 1:\n",
        "      peso += pesos[i]\n",
        "      f += valores[i]\n",
        "  return peso, f"
      ],
      "execution_count": null,
      "outputs": []
    },
    {
      "cell_type": "code",
      "metadata": {
        "id": "lR5GMLEPkjaz"
      },
      "source": [
        "def gera_vizinhanca(solucao_inicial):\n",
        "  vizinhanca = []\n",
        "  for i in range(len(solucao_inicial)):\n",
        "    vizinho = np.copy(solucao_inicial)\n",
        "    if vizinho[i] == 0:\n",
        "      vizinho[i] = 1\n",
        "    else:\n",
        "      vizinho[i] = 0\n",
        "    vizinhanca.append(vizinho) \n",
        "  return vizinhanca  "
      ],
      "execution_count": null,
      "outputs": []
    },
    {
      "cell_type": "code",
      "metadata": {
        "id": "f4scx1OVk81V"
      },
      "source": [
        "def melhor_vizinho(vizinhanca, tabu, melhor_solucao, peso_aceitavel, pesos, valores):\n",
        "  modificador = 0\n",
        "  escolhido = 0\n",
        "  melhor_peso = -1\n",
        "  melhor_f = -1\n",
        "  for vizinho in vizinhanca:\n",
        "    peso, f = eval(vizinho, pesos, valores)   \n",
        "    if peso < peso_aceitavel:          \n",
        "       if f > melhor_f and modificador not in tabu:\n",
        "          melhor_f = f \n",
        "          escolhido = modificador\n",
        "       if f == melhor_f and peso < melhor_peso and modificador not in tabu:\n",
        "          melhor_f = f  \n",
        "          escolhido = modificador \n",
        "    modificador+=1  \n",
        "  return escolhido"
      ],
      "execution_count": null,
      "outputs": []
    },
    {
      "cell_type": "code",
      "metadata": {
        "id": "AHepi5x8knyJ"
      },
      "source": [
        "def BT(solucao_inicial, pesos, valores, peso_aceitavel):\n",
        "  bt_max = 10000 #número máximo de iterações sem melhora na solução\n",
        "  tamanho_tabu = 100 #tamanho da lista tabu\n",
        "\n",
        "  melhor_solucao = solucao_inicial #melhor solução encontrada até o momento\n",
        "  array_escolhido = melhor_solucao\n",
        "  iter = 0 #contador de iterações\n",
        "  melhor_iter = 0 #iteração mais recente, que forneceu melhor_solução\n",
        "  tabu = [] #lista tabu\n",
        "\n",
        "  while (iter - melhor_iter) <= bt_max:    \n",
        "    iter+=1\n",
        "    vizinhanca = gera_vizinhanca(array_escolhido)\n",
        "    escolhido = melhor_vizinho(vizinhanca, tabu, melhor_solucao, peso_aceitavel, pesos, valores)\n",
        "    array_escolhido = vizinhanca[escolhido] \n",
        "    tabu.append(escolhido)  \n",
        "    if len(tabu) >= tamanho_tabu:\n",
        "      tabu.pop(0) \n",
        "    if eval(array_escolhido, pesos, valores)[1] > eval(melhor_solucao, pesos, valores)[1]:\n",
        "      melhor_solucao = vizinhanca[escolhido]\n",
        "      melhor_iter = iter   \n",
        "  return melhor_solucao  "
      ],
      "execution_count": null,
      "outputs": []
    },
    {
      "cell_type": "code",
      "metadata": {
        "colab": {
          "base_uri": "https://localhost:8080/"
        },
        "id": "gT0q7T-qnT6O",
        "outputId": "0007acac-d041-463b-aea9-362b5e6e0330"
      },
      "source": [
        "aleatoria = solucao_aleatoria(275, pesos, valores)\n",
        "solucao = BT(aleatoria, pesos, valores, 275)\n",
        "print(solucao,eval(solucao, pesos, valores)[1])"
      ],
      "execution_count": null,
      "outputs": [
        {
          "output_type": "stream",
          "text": [
            "[1 0 1 1 1 1 1 0 0 0 1 1 1 0 1] 142\n"
          ],
          "name": "stdout"
        }
      ]
    },
    {
      "cell_type": "markdown",
      "metadata": {
        "id": "JmWLxctZpRZo"
      },
      "source": [
        "####O algoritmo de Busca Tabu se mostrou adequado para resolver o problema, uma vez que encontra uma solução aceitável com pouco tempo de computação. A Busca Tabu consegue fugir dos mínimos locais pelo fato de que o algoritmo aceita soluções vizinhas piores que a atuail. Logo, o algoritmo potencialmente encontra soluções melhores que a Busca Local. Entretanto, como outras meta-heurísticas (ex.: Simulated Annealing), o algoritmo não garante encontrar a solução ótima, embora seja possível encontrá-la."
      ]
    },
    {
      "cell_type": "markdown",
      "metadata": {
        "id": "fTIKquKacXQs"
      },
      "source": [
        "##Referências\n",
        "\n",
        "[Busca baseada em Populações e Computação Evolutiva](https://ricardomatsumura.medium.com/busca-baseada-em-popula%C3%A7%C3%B5es-e-computa%C3%A7%C3%A3o-evolutiva-fd3097e5dcaf)\n",
        "\n",
        "[Meta-Heurísticas](https://www.youtube.com/watch?v=KxodOzWXKr4)\n",
        "\n",
        "[Meta-Heurísticas: Busca Tabu](https://www.youtube.com/watch?v=i1IJAVhCn6U)"
      ]
    }
  ]
}